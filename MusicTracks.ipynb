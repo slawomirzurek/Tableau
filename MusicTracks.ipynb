{
  "cells": [
    {
      "cell_type": "code",
      "execution_count": null,
      "metadata": {
        "id": "b2Qk2RVn1UsT"
      },
      "outputs": [],
      "source": [
        "import pandas as pd\n",
        "\n",
        "# File path to the JSON file\n",
        "spotify1 = '/content/drive/MyDrive/Dane z aplikacji/Spotify/MyData/StreamingHistory0.json'\n",
        "\n",
        "# Read the JSON file into a dataframe\n",
        "with open(spotify1, encoding='utf-8') as inputfile:\n",
        "    df1 = pd.read_json(inputfile)\n",
        "\n",
        "# Add two new columns to the dataframe\n",
        "df1['Source'] = 'Spotify'\n",
        "df1['Account'] = 'zethar182@gmail.com'\n",
        "\n",
        "# Rename columns in the dataframe\n",
        "df1.rename(columns={'endTime': 'Date', 'artistName': 'Artist', 'trackName': 'Track', 'msPlayed': 'Duration'}, inplace=True)\n",
        "\n",
        "# Reorder columns in the dataframe\n",
        "df1 = df1[['Artist', 'Track', 'Date', 'Duration', 'Source', 'Account']]\n",
        "\n",
        "# Show the first 5 rows of the dataframe\n",
        "df1.head()"
      ]
    },
    {
      "cell_type": "code",
      "execution_count": null,
      "metadata": {
        "id": "uww1RwK_2fqW"
      },
      "outputs": [],
      "source": [
        "import pandas as pd\n",
        "\n",
        "# File path to the CSV file\n",
        "lastfm = '/content/drive/MyDrive/Dane z aplikacji/LastFM/slazur83.csv'\n",
        "\n",
        "# Read the CSV file into a dataframe\n",
        "df2 = pd.read_csv(lastfm, header=None, names=['Artist', 'Album', 'Track', 'Date'])\n",
        "\n",
        "# Add new columns to the dataframe\n",
        "df2['Source'] = 'LastFM'\n",
        "df2['Account'] = 'slazur83@gmail.com'\n",
        "\n",
        "# Show the first 5 rows of the dataframe\n",
        "df2.head()"
      ]
    },
    {
      "cell_type": "code",
      "execution_count": null,
      "metadata": {
        "id": "0xH9JpEB3SVt"
      },
      "outputs": [],
      "source": [
        "import pandas as pd\n",
        "\n",
        "# File path to the Excel file\n",
        "deezer = '/content/drive/MyDrive/Dane z aplikacji/Deezer/4519420622.xlsx'\n",
        "\n",
        "# Read the specified sheet from the Excel file into a dataframe\n",
        "df3 = pd.read_excel(deezer, sheet_name=\"10_listeningHistory\")\n",
        "\n",
        "# Rename columns in the dataframe\n",
        "df3.rename(columns={'Song Title': 'Track', 'Album Title': 'Album', 'Listening Time': 'Duration', 'Platform Name':'Platform'}, inplace=True)\n",
        "\n",
        "# Delete a column 'ISRC' from the dataframe\n",
        "del df3['ISRC']\n",
        "\n",
        "# Add new columns to the dataframe\n",
        "df3['Source'] = 'Deezer'\n",
        "df3['Account'] = 'slazur83@gmail.com'\n",
        "\n",
        "# Show the first 5 rows of the dataframe\n",
        "df3.head()"
      ]
    },
    {
      "cell_type": "code",
      "execution_count": null,
      "metadata": {
        "id": "YWG1LUHv6ITr"
      },
      "outputs": [],
      "source": [
        "import pandas as pd\n",
        "\n",
        "# Concatenate the three dataframes into one, ignoring their original indices\n",
        "merged = pd.concat([df1, df2, df3], ignore_index=True)\n",
        "\n",
        "# Reorder columns in the merged dataframe\n",
        "merged = merged[['Date', 'Artist', 'Track', 'Album', 'Duration', 'Source', 'Account', 'Platform', 'Platform Model', 'IP Address']]\n",
        "\n",
        "# Change Date field to time format\n",
        "merged['Date'] = pd.to_datetime(merged['Date'])\n",
        "merged.sort_values(by='Date')\n",
        "\n",
        "# Print the first 5 rows of the merged dataframe\n",
        "merged.head()"
      ]
    },
    {
      "cell_type": "code",
      "execution_count": 5,
      "metadata": {
        "colab": {
          "base_uri": "https://localhost:8080/"
        },
        "id": "Mv2njz7v6skT",
        "outputId": "87b3b51d-9b5c-42ae-e4c7-24bc93d753f7"
      },
      "outputs": [
        {
          "output_type": "stream",
          "name": "stdout",
          "text": [
            "All data is merged\n",
            "There are no nulls\n"
          ]
        }
      ],
      "source": [
        "# Check if the length of each of the original dataframes df1, df2, and df3 added together is equal to the length of the merged dataframe.\n",
        "if sum([len(df1), len(df2), len(df3)]) == len(merged):\n",
        "  print('All data is merged')\n",
        "else:\n",
        "  print('Not all data is merged')\n",
        "\n",
        "# Check if there are nulls in the merged dataframe\n",
        "if merged['Date'].isna().sum():\n",
        "  print('There are some nulls')\n",
        "else:\n",
        "  print('There are no nulls')"
      ]
    },
    {
      "cell_type": "code",
      "source": [
        "# Export the merged dataframe to the music_tracks.csv file\n",
        "merged.to_csv('/content/drive/MyDrive/Colab Notebooks/Tableau/Outputs/music_tracks.csv', index=False)"
      ],
      "metadata": {
        "id": "DpJ55Bj-dLW5"
      },
      "execution_count": 6,
      "outputs": []
    }
  ],
  "metadata": {
    "colab": {
      "provenance": [],
      "mount_file_id": "1Nxr7fSxPw5_9luzBYxemvGg8v40m-82q",
      "authorship_tag": "ABX9TyO5aL+9TJIz9EY37+ff5+RN"
    },
    "kernelspec": {
      "display_name": "Python 3",
      "name": "python3"
    },
    "language_info": {
      "name": "python"
    }
  },
  "nbformat": 4,
  "nbformat_minor": 0
}