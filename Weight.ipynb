{
  "nbformat": 4,
  "nbformat_minor": 0,
  "metadata": {
    "colab": {
      "provenance": [],
      "mount_file_id": "1fGFDoJ7x_xWwxQygcQ8dCxMYLbT7fNlc",
      "authorship_tag": "ABX9TyMk4TERzJYjWKDWlfA0ORWu"
    },
    "kernelspec": {
      "name": "python3",
      "display_name": "Python 3"
    },
    "language_info": {
      "name": "python"
    }
  },
  "cells": [
    {
      "cell_type": "code",
      "execution_count": 38,
      "metadata": {
        "id": "Ezt_LhmaIgwX"
      },
      "outputs": [],
      "source": [
        "import pandas as pd\n",
        "import glob\n",
        "\n",
        "from datetime import datetime"
      ]
    },
    {
      "cell_type": "code",
      "source": [
        "file_paths = glob.glob('/content/drive/MyDrive/Dane z aplikacji/Garmin Connect/Masa ciała/*.csv')\n",
        "\n",
        "dfs = []\n",
        "for path in file_paths:\n",
        "    df = pd.read_csv(path)\n",
        "    dfs.append(df)\n",
        "\n",
        "df = pd.concat(dfs, ignore_index=True)\n",
        "df.head()"
      ],
      "metadata": {
        "id": "VH44cFUVx625"
      },
      "execution_count": null,
      "outputs": []
    },
    {
      "cell_type": "code",
      "source": [
        "# Selecting only the first 4 columns of the DataFrame:\n",
        "\n",
        "df = df.iloc[:, :4]\n",
        "df.head(10)"
      ],
      "metadata": {
        "id": "lhjWPEB1JokQ"
      },
      "execution_count": null,
      "outputs": []
    },
    {
      "cell_type": "code",
      "source": [
        "# Converting the DataFrame to a list, merging consecutive rows into a single row, and converting the merged data back to a DataFrame\n",
        "\n",
        "data_values = df.values.tolist()\n",
        "merged_data = [data_values[i] + data_values[i+1] for i in range(0, len(data_values)-1)]\n",
        "df_merged = pd.DataFrame(merged_data, columns=list(df.columns)*2)\n",
        "df_merged"
      ],
      "metadata": {
        "id": "A7Mw9QtUPF5_"
      },
      "execution_count": null,
      "outputs": []
    },
    {
      "cell_type": "code",
      "source": [
        "# Renaming the \"Czas\" column to \"Czas2\", removing rows that contain a colon in the \"Czas\" column, and selecting only the first 5 columns of the DataFrame\n",
        "\n",
        "index = df_merged.columns.tolist().index('Czas', 1)\n",
        "df_merged.columns.values[index] = 'Czas2'\n",
        "df_merged = df_merged[~df_merged['Czas'].str.contains(':')]\n",
        "df_merged"
      ],
      "metadata": {
        "id": "g0yVuCZBTZay"
      },
      "execution_count": null,
      "outputs": []
    },
    {
      "cell_type": "code",
      "source": [
        "df_merged = df_merged.iloc[:, [0, 4,5,6,7]]\n",
        "df_merged"
      ],
      "metadata": {
        "id": "bpioF4fnIqmn"
      },
      "execution_count": null,
      "outputs": []
    },
    {
      "cell_type": "code",
      "source": [
        "# Defining a function to extract the year, month, and day from a date string in the format \"dd Mon yyyy\", converting the month abbreviation to the corresponding month name using a dictionary\n",
        "\n",
        "month_dict = {'Sty': 'Jan', 'Lut': 'Feb', 'Mar': 'Mar', 'Kwi': 'Apr', 'Maj': 'May', 'Cze': 'Jun', 'Lip': 'Jul', 'Sie': 'Aug', 'Wrz': 'Sep', 'Paź': 'Oct', 'Lis': 'Nov', 'Gru': 'Dec'}\n",
        "\n",
        "def get_year_month(date_string):\n",
        "    day, month, year = date_string.strip().split()\n",
        "    month = month_dict[month]\n",
        "    return year, month, day\n",
        "\n",
        "df_merged[['Year', 'Month', 'Day']] = df_merged['Czas'].apply(lambda x: pd.Series(get_year_month(x)))\n",
        "\n",
        "del df_merged  ['Czas']\n",
        "\n",
        "df_merged"
      ],
      "metadata": {
        "id": "aqBe2HEiXBPe"
      },
      "execution_count": null,
      "outputs": []
    },
    {
      "cell_type": "code",
      "source": [
        "df_merged = df_merged.rename(columns={'Czas2': 'Time', 'Ciężar': 'Weight', 'Zmiana': 'Change', 'BMI': 'BMI'})\n",
        "df_merged = df_merged.reindex(columns=['Year', 'Month', 'Day', 'Time', 'Weight', 'Change', 'BMI'])\n",
        "df_merged"
      ],
      "metadata": {
        "id": "j2I8wyQgHWlQ"
      },
      "execution_count": null,
      "outputs": []
    },
    {
      "cell_type": "code",
      "source": [
        "# Formatting the \"Timestamp\" column to the desired format, reordering columns to put \"Timestamp\" first, and returning the final DataFrame:\n",
        "\n",
        "df_merged['Timestamp'] = pd.to_datetime(df_merged['Year'].astype(str) + df_merged['Month'] + df_merged['Day'] + df_merged['Time'], format='%Y%b%d%H:%M')\n",
        "df_merged['Timestamp'] = df_merged['Timestamp'].dt.strftime('%Y-%m-%dT%H:%M')\n",
        "\n",
        "cols = df_merged.columns.tolist()\n",
        "cols = ['Timestamp'] + [col for col in cols if col != 'Timestamp']\n",
        "df_merged = df_merged[cols]\n",
        "\n",
        "df_merged"
      ],
      "metadata": {
        "id": "Pa-Fnyikgcv5"
      },
      "execution_count": null,
      "outputs": []
    },
    {
      "cell_type": "code",
      "source": [
        "duplicated_rows = df_merged.duplicated()\n",
        "\n",
        "print(f\"Number of duplicated rows: {duplicated_rows.sum()}\")\n",
        "\n",
        "df_merged = df_merged.drop_duplicates()\n",
        "\n",
        "df_merged = df_merged.sort_values('Timestamp').reset_index(drop=True)\n",
        "\n",
        "df_merged\n"
      ],
      "metadata": {
        "id": "dT9xD0GjyYOC"
      },
      "execution_count": null,
      "outputs": []
    }
  ]
}